{
 "cells": [
  {
   "cell_type": "raw",
   "id": "09b9e99d-bc2c-4f9d-932a-503ede744276",
   "metadata": {},
   "source": [
    "1)Who developed python programming?"
   ]
  },
  {
   "cell_type": "markdown",
   "id": "928c6fbd-398d-4244-824b-cd844f168b1a",
   "metadata": {},
   "source": [
    "Guido Van Rossum"
   ]
  },
  {
   "cell_type": "raw",
   "id": "6c056ac8-a5a9-456b-abc8-17d1ad6358cb",
   "metadata": {},
   "source": [
    "2)Which type of programming does python support?"
   ]
  },
  {
   "cell_type": "markdown",
   "id": "07905334-ca45-4328-b8d6-1fc06e24354e",
   "metadata": {},
   "source": [
    "Python supports procedural,object-oriented,Dynamic,functional programming"
   ]
  },
  {
   "cell_type": "raw",
   "id": "70ec645a-337c-41a2-82be-e002e84f571c",
   "metadata": {},
   "source": [
    "3)Is Python is case Sensitive when dealing with Identifiers?"
   ]
  },
  {
   "cell_type": "markdown",
   "id": "cc629539-92eb-4f20-a5a3-ee70e1adb08c",
   "metadata": {},
   "source": [
    "Yes"
   ]
  },
  {
   "cell_type": "raw",
   "id": "ee633828-1411-4857-91b8-f92496ab0304",
   "metadata": {},
   "source": [
    "4)What is the correct extension of the Python file?"
   ]
  },
  {
   "cell_type": "markdown",
   "id": "74b1a2bc-b2c5-4df9-97b4-e91fc81c3b00",
   "metadata": {},
   "source": [
    ".py"
   ]
  },
  {
   "cell_type": "raw",
   "id": "a644a85d-43b6-4d1a-a9bd-6f727a4e8f47",
   "metadata": {},
   "source": [
    "5)Is python code compiled or interpreted?"
   ]
  },
  {
   "cell_type": "markdown",
   "id": "aca925f8-e963-4ef3-acb6-1ae8707df66b",
   "metadata": {},
   "source": [
    "Python code is interpreted"
   ]
  },
  {
   "cell_type": "raw",
   "id": "62f4d2ae-86fb-4f14-bfbe-da6e307f78ee",
   "metadata": {},
   "source": [
    "6)Name a few blocks of code that is used define in python language?"
   ]
  },
  {
   "cell_type": "markdown",
   "id": "860a0651-7080-41e9-abab-54ab4f75339e",
   "metadata": {},
   "source": [
    "Conditional statement:if,elif,else\n",
    "Loops statement:for,while\n",
    "Function:def\n",
    "Class: class\n",
    "Exception Handling:try,except,finally"
   ]
  },
  {
   "cell_type": "raw",
   "id": "8acc1d1b-6abd-4b08-a5fe-53c0ae907378",
   "metadata": {},
   "source": [
    "7)State a character that is used to create a single line character?"
   ]
  },
  {
   "cell_type": "raw",
   "id": "55641dd4-3671-4ced-aecc-0fb5d25ce631",
   "metadata": {},
   "source": [
    "#"
   ]
  },
  {
   "cell_type": "raw",
   "id": "67ed7b02-4155-4c1d-b95c-99efd5cbc1b2",
   "metadata": {},
   "source": [
    "8)Mention function which can help us to find the version of python that we are working on?"
   ]
  },
  {
   "cell_type": "code",
   "execution_count": 4,
   "id": "f9ca2b08-63d8-459b-ad4e-d223d26eb901",
   "metadata": {},
   "outputs": [
    {
     "data": {
      "text/plain": [
       "'3.12.3 (tags/v3.12.3:f6650f9, Apr  9 2024, 14:05:25) [MSC v.1938 64 bit (AMD64)]'"
      ]
     },
     "execution_count": 4,
     "metadata": {},
     "output_type": "execute_result"
    }
   ],
   "source": [
    "import sys\n",
    "sys.version"
   ]
  },
  {
   "cell_type": "raw",
   "id": "d47d4a2d-92ac-4289-bd7e-de3b7e1ee764",
   "metadata": {},
   "source": [
    "9)Python Supports to create the anonymous function at runtime , using a  constructor called?"
   ]
  },
  {
   "cell_type": "markdown",
   "id": "e932b205-f11f-41ba-9a18-cc6423049734",
   "metadata": {},
   "source": [
    "lambda function"
   ]
  },
  {
   "cell_type": "raw",
   "id": "3539b05a-bedb-4526-ab4d-b7a55bc81b31",
   "metadata": {},
   "source": [
    "10)What does pip stands in python"
   ]
  },
  {
   "cell_type": "markdown",
   "id": "9c11837b-7f9b-4074-8bed-f0a49b60cc15",
   "metadata": {},
   "source": [
    "pip installs packages"
   ]
  },
  {
   "cell_type": "raw",
   "id": "892ac506-9d8f-4cd9-a96a-35e2d0bac6fd",
   "metadata": {},
   "source": [
    "11)Mention a few built-in functions in python?"
   ]
  },
  {
   "cell_type": "markdown",
   "id": "13e0fed2-d1b7-4052-a3f4-7d988749f616",
   "metadata": {},
   "source": [
    "print,input,range,len,type"
   ]
  },
  {
   "cell_type": "raw",
   "id": "361480d3-7b68-4798-90bc-50118e771644",
   "metadata": {},
   "source": [
    "12)What is the maximum possible length of an identifier in python?"
   ]
  },
  {
   "cell_type": "markdown",
   "id": "10b97e03-5311-49ec-8641-8ea08f24e2a5",
   "metadata": {},
   "source": [
    "not defined"
   ]
  },
  {
   "cell_type": "raw",
   "id": "2d716e7b-62f1-4657-a7d1-88f46e20c05e",
   "metadata": {},
   "source": [
    "13)what are the benefits of using python"
   ]
  },
  {
   "cell_type": "markdown",
   "id": "e6a9adfc-6d2e-4a90-a340-4adb7126ddea",
   "metadata": {},
   "source": [
    "Readability,easy to learn,versatile,multile libraries and applications"
   ]
  },
  {
   "cell_type": "raw",
   "id": "e9d11ccf-5c02-4be3-92a9-8604a5aca86f",
   "metadata": {},
   "source": [
    "14)How is memory managed in Python?"
   ]
  },
  {
   "cell_type": "markdown",
   "id": "91eb8ca1-3c30-4fea-81ef-8f48f723bb78",
   "metadata": {},
   "source": [
    "automatic memory management and garbage collection"
   ]
  },
  {
   "cell_type": "raw",
   "id": "25de4b16-890e-4755-a03f-362b3c9dd417",
   "metadata": {},
   "source": [
    "15)How to install python and set path variables?"
   ]
  },
  {
   "cell_type": "markdown",
   "id": "f2ffd46b-3375-4476-bad9-6e098d404e0d",
   "metadata": {},
   "source": [
    "To install Python, download it from python.org and run the installer, ensuring to check \"Add Python to PATH.\" If the path isn't set, manually add the Python installation and Scripts directory to the system's environment variables."
   ]
  },
  {
   "cell_type": "raw",
   "id": "9db13d35-ace7-4d57-a748-2d74708d8c92",
   "metadata": {},
   "source": [
    "16)Is Indentation is required in Python?"
   ]
  },
  {
   "cell_type": "markdown",
   "id": "b28423c8-5d71-40ba-9ffc-6f8fcfc8e3cd",
   "metadata": {},
   "source": [
    "Yes"
   ]
  },
  {
   "cell_type": "markdown",
   "id": "e13dfd77-37c6-4515-a9e6-d2ad310e3f43",
   "metadata": {},
   "source": []
  }
 ],
 "metadata": {
  "kernelspec": {
   "display_name": "Python 3 (ipykernel)",
   "language": "python",
   "name": "python3"
  },
  "language_info": {
   "codemirror_mode": {
    "name": "ipython",
    "version": 3
   },
   "file_extension": ".py",
   "mimetype": "text/x-python",
   "name": "python",
   "nbconvert_exporter": "python",
   "pygments_lexer": "ipython3",
   "version": "3.12.3"
  }
 },
 "nbformat": 4,
 "nbformat_minor": 5
}
