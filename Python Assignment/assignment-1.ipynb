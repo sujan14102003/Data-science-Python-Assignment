{
 "cells": [
  {
   "cell_type": "markdown",
   "id": "6c8b1ec8-24ed-47f6-98a0-13ec329932e9",
   "metadata": {},
   "source": [
    "Q1. Explain with an example each when to use a for loop and a while loop."
   ]
  },
  {
   "cell_type": "raw",
   "id": "7a4dcad4-89c6-4efa-a8a1-dad20cc55940",
   "metadata": {},
   "source": [
    "For Loop:\n",
    "A for loop is used when the number of iterations is known beforehand or when you need to iterate over a sequence (such as a list, string, or range of numbers).\n",
    "\n",
    "Example: Printing the numbers from 1 to 5 using a for loop\n",
    "\n",
    "for i in range(1, 6):\n",
    "    print(i)\n",
    "\n",
    "The loop runs 5 times because range(1, 6) generates numbers from 1 to 5. Since we know the range, the for loop is appropriate.\n",
    "\n",
    "While Loop:\n",
    "\n",
    "A while loop is used when the number of iterations is not known in advance and depends on a condition being met.\n",
    "\n",
    "Example: Keep asking for a password until the correct one is entered.\n",
    "\n",
    "password = \"\"\n",
    "correct_password = \"open123\"\n",
    "\n",
    "while password != correct_password:\n",
    "    password = input(\"Enter the password: \")\n",
    "\n",
    "print(\"Access granted!\")\n",
    "\n",
    "The while loop keeps running as long as the entered password is incorrect. The number of iterations is not predetermined, so a while loop is ideal here.\n",
    "\n"
   ]
  },
  {
   "cell_type": "raw",
   "id": "5b8d2dce-cd01-4c28-806d-6a7bee2c724e",
   "metadata": {},
   "source": [
    "Q2. Write a python program to print the sum and product of the first 10 natural numbers using for\n",
    "and while loop."
   ]
  },
  {
   "cell_type": "code",
   "execution_count": 6,
   "id": "98cddc62-4431-4c09-b606-08167fa63403",
   "metadata": {},
   "outputs": [
    {
     "name": "stdout",
     "output_type": "stream",
     "text": [
      "55\n"
     ]
    }
   ],
   "source": [
    "sum=0\n",
    "for i in range(1,11): #using for loop to print sum  of the first 10 natural numbers\n",
    "    sum=sum+i\n",
    "print(sum)    "
   ]
  },
  {
   "cell_type": "code",
   "execution_count": 3,
   "id": "772102d7-86ce-4a4c-af65-647417cfbb5b",
   "metadata": {},
   "outputs": [
    {
     "name": "stdout",
     "output_type": "stream",
     "text": [
      "3628800\n"
     ]
    }
   ],
   "source": [
    "product=1\n",
    "for i in range(1,11): #using for loop to print product of the first 10 natural numbers\n",
    "    product=product*i\n",
    "print(product)"
   ]
  },
  {
   "cell_type": "code",
   "execution_count": 5,
   "id": "28fb6485-33cc-4ffa-9c3c-d8120a402dec",
   "metadata": {},
   "outputs": [
    {
     "name": "stdout",
     "output_type": "stream",
     "text": [
      "55\n"
     ]
    }
   ],
   "source": [
    "sum=0\n",
    "i=1\n",
    "while i<=10: #using while loop to print sum of the first 10 natural numbers\n",
    "    sum=sum+i\n",
    "    i=i+1\n",
    "print(sum)"
   ]
  },
  {
   "cell_type": "code",
   "execution_count": 7,
   "id": "8544b58f-5a97-4a2c-bb86-8fb610e600fa",
   "metadata": {},
   "outputs": [
    {
     "name": "stdout",
     "output_type": "stream",
     "text": [
      "3628800\n"
     ]
    }
   ],
   "source": [
    "product=1\n",
    "i=1\n",
    "while i<=10: #using while loop to print sum of the first 10 natural numbers\n",
    "    product=product*i\n",
    "    i=i+1\n",
    "print(product)"
   ]
  },
  {
   "cell_type": "raw",
   "id": "ce4cdbef-c671-4aff-937f-1ada41f7b600",
   "metadata": {},
   "source": [
    "Q3. Create a python program to compute the electricity bill for a household.\n",
    "\n",
    "The per-unit charges in rupees are as follows: For the first 100 units, the user will be charged Rs. 4.5 per\n",
    "unit, for the next 100 units, the user will be charged Rs. 6 per unit, and for the next 100 units, the user will\n",
    "be charged Rs. 10 per unit, After 300 units and above the user will be charged Rs. 20 per unit.\n",
    "\n",
    "You are required to take the units of electricity consumed in a month from the user as input."
   ]
  },
  {
   "cell_type": "code",
   "execution_count": 9,
   "id": "79e12313-4373-4a1f-a1be-6c0ffff28e4d",
   "metadata": {},
   "outputs": [
    {
     "name": "stdin",
     "output_type": "stream",
     "text": [
      "Enter the number of units consumed:  150\n"
     ]
    },
    {
     "name": "stdout",
     "output_type": "stream",
     "text": [
      "The total electricity bill is: Rs 750.00\n"
     ]
    }
   ],
   "source": [
    "units = int(input(\"Enter the number of units consumed: \"))\n",
    "bill = 0\n",
    "i = 1\n",
    "\n",
    "while i <= units and i <= 100:\n",
    "    bill += 4.5\n",
    "    i += 1\n",
    "\n",
    "while i <= units and i <= 200:\n",
    "    bill += 6\n",
    "    i += 1\n",
    "\n",
    "while i <= units and i <= 300:\n",
    "    bill += 10\n",
    "    i += 1\n",
    "\n",
    "while i <= units:\n",
    "    bill += 20\n",
    "    i += 1\n",
    "\n",
    "# Output the total bill\n",
    "print(f\"The total electricity bill is: Rs {bill:.2f}\")\n"
   ]
  },
  {
   "cell_type": "raw",
   "id": "bf1fb27b-9c90-47c4-acdb-02dd009fca87",
   "metadata": {},
   "source": [
    "Q4. Create a list of numbers from 1 to 100. Use for loop and while loop to calculate the cube of each\n",
    "number and if the cube of that number is divisible by 4 or 5 then append that number in a list and print\n",
    "that list."
   ]
  },
  {
   "cell_type": "code",
   "execution_count": 2,
   "id": "faa5d2fb-0176-4beb-8b7f-243126b7b2ff",
   "metadata": {},
   "outputs": [
    {
     "name": "stdout",
     "output_type": "stream",
     "text": [
      "Numbers whose cube is divisible by 4 or 5 (for loop):\n",
      "[2, 4, 5, 6, 8, 10, 12, 14, 15, 16, 18, 20, 22, 24, 25, 26, 28, 30, 32, 34, 35, 36, 38, 40, 42, 44, 45, 46, 48, 50, 52, 54, 55, 56, 58, 60, 62, 64, 65, 66, 68, 70, 72, 74, 75, 76, 78, 80, 82, 84, 85, 86, 88, 90, 92, 94, 95, 96, 98, 100]\n"
     ]
    }
   ],
   "source": [
    "numbers = list(range(1, 101))\n",
    "result_list_for = []\n",
    "for num in numbers:\n",
    "    cube = num ** 3\n",
    "    if cube % 4 == 0 or cube % 5 == 0:\n",
    "        result_list_for.append(num)\n",
    "print(\"Numbers whose cube is divisible by 4 or 5 (for loop):\")\n",
    "print(result_list_for)\n"
   ]
  },
  {
   "cell_type": "raw",
   "id": "372b362d-2f16-4d65-a7a5-74e15f47edaa",
   "metadata": {},
   "source": [
    "Q5.Write a program to filter count vowels in the below-given string.\n",
    "string = \"I want to become a data scientist\""
   ]
  },
  {
   "cell_type": "code",
   "execution_count": 9,
   "id": "4c4a1ff7-a668-4046-88a2-d69fca3e2aff",
   "metadata": {},
   "outputs": [
    {
     "name": "stdout",
     "output_type": "stream",
     "text": [
      "The number of vowels present in the string is 12\n"
     ]
    }
   ],
   "source": [
    "vowels=\"aeiou\"\n",
    "string=\"I want to become a data scientist\"\n",
    "s=string.lower()\n",
    "count=0\n",
    "for char in s:\n",
    "    if char in vowels:\n",
    "        count=count+1\n",
    "print(f\"The number of vowels present in the string is {count}\")"
   ]
  },
  {
   "cell_type": "code",
   "execution_count": null,
   "id": "40f2c4b7-8e2c-4652-b1a2-cef3e08210a3",
   "metadata": {},
   "outputs": [],
   "source": []
  },
  {
   "cell_type": "code",
   "execution_count": null,
   "id": "34000eb9-912f-47d8-9b78-2b7d407b603c",
   "metadata": {},
   "outputs": [],
   "source": []
  }
 ],
 "metadata": {
  "kernelspec": {
   "display_name": "Python 3 (ipykernel)",
   "language": "python",
   "name": "python3"
  },
  "language_info": {
   "codemirror_mode": {
    "name": "ipython",
    "version": 3
   },
   "file_extension": ".py",
   "mimetype": "text/x-python",
   "name": "python",
   "nbconvert_exporter": "python",
   "pygments_lexer": "ipython3",
   "version": "3.12.3"
  }
 },
 "nbformat": 4,
 "nbformat_minor": 5
}
